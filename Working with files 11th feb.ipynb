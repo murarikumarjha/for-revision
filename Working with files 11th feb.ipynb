{
 "cells": [
  {
   "cell_type": "code",
   "execution_count": 2,
   "id": "98a1ff78-348d-4f9d-9a21-7416d4449d61",
   "metadata": {},
   "outputs": [],
   "source": [
    "f = open('test.txt','w')"
   ]
  },
  {
   "cell_type": "code",
   "execution_count": 3,
   "id": "13ec759a-0702-428a-a4e6-f79eac1a5391",
   "metadata": {},
   "outputs": [
    {
     "data": {
      "text/plain": [
       "'/home/jovyan/work'"
      ]
     },
     "execution_count": 3,
     "metadata": {},
     "output_type": "execute_result"
    }
   ],
   "source": [
    "pwd"
   ]
  },
  {
   "cell_type": "code",
   "execution_count": 5,
   "id": "778560c9-7f6d-4dee-817c-1a056890b7d2",
   "metadata": {},
   "outputs": [
    {
     "name": "stdout",
     "output_type": "stream",
     "text": [
      "'7th feb assigment.ipynb'    'Special(magic and Dunder).ipynb'\n",
      "'Decorator hindi.ipynb'      'static method hindi.ipynb'\n",
      "'Property Decorators.ipynb'   test.txt\n",
      "\u001b[0m\u001b[01;34m'Python third part '\u001b[0m/        'Working with files 11th feb.ipynb'\n",
      " README.md\n"
     ]
    }
   ],
   "source": [
    "ls"
   ]
  },
  {
   "cell_type": "code",
   "execution_count": 6,
   "id": "2a422058-614a-46ef-a8ae-1da75e44e84f",
   "metadata": {},
   "outputs": [
    {
     "name": "stdout",
     "output_type": "stream",
     "text": [
      "[Errno 2] No such file or directory: 'work'\n",
      "/home/jovyan/work\n"
     ]
    }
   ],
   "source": [
    "cd work"
   ]
  },
  {
   "cell_type": "code",
   "execution_count": 7,
   "id": "06867fd8-281c-4449-98b8-39c7370e66d5",
   "metadata": {},
   "outputs": [
    {
     "name": "stdout",
     "output_type": "stream",
     "text": [
      "'7th feb assigment.ipynb'    'Special(magic and Dunder).ipynb'\n",
      "'Decorator hindi.ipynb'      'static method hindi.ipynb'\n",
      "'Property Decorators.ipynb'   test.txt\n",
      "\u001b[0m\u001b[01;34m'Python third part '\u001b[0m/        'Working with files 11th feb.ipynb'\n",
      " README.md\n"
     ]
    }
   ],
   "source": [
    "ls"
   ]
  },
  {
   "cell_type": "code",
   "execution_count": 8,
   "id": "43589a8d-0b24-4bf3-9065-cd28806ecfad",
   "metadata": {},
   "outputs": [
    {
     "data": {
      "text/plain": [
       "30"
      ]
     },
     "execution_count": 8,
     "metadata": {},
     "output_type": "execute_result"
    }
   ],
   "source": [
    "f.write('this is my first file in write')"
   ]
  },
  {
   "cell_type": "code",
   "execution_count": 10,
   "id": "f5c12e23-f8bb-4888-a220-46b8df5c1662",
   "metadata": {},
   "outputs": [],
   "source": [
    "f = open('test.txt','w')"
   ]
  },
  {
   "cell_type": "code",
   "execution_count": 11,
   "id": "46c0d042-bbbc-4ffb-8b56-5f4dc03a087b",
   "metadata": {},
   "outputs": [
    {
     "data": {
      "text/plain": [
       "15"
      ]
     },
     "execution_count": 11,
     "metadata": {},
     "output_type": "execute_result"
    }
   ],
   "source": [
    "f.write('this is my file')"
   ]
  },
  {
   "cell_type": "code",
   "execution_count": 14,
   "id": "b1cfeade-d93b-4e14-8fa1-2a1c07e1440d",
   "metadata": {},
   "outputs": [],
   "source": [
    "f = open('test.txt','a')"
   ]
  },
  {
   "cell_type": "code",
   "execution_count": 15,
   "id": "9dd41d33-6bd0-4772-bf5d-61a3f4205a23",
   "metadata": {},
   "outputs": [
    {
     "data": {
      "text/plain": [
       "307"
      ]
     },
     "execution_count": 15,
     "metadata": {},
     "output_type": "execute_result"
    }
   ],
   "source": [
    "f.write('Chhota Bheem: Bheem is main protagonist of the show. He is an adventurous, fun-loving but virtuous boy who is gifted with superhuman strength. This strength can be powered up by consuming laddoos, his favourite food. Bheem appears bare chested, wearing an orange dhoti and a gold pendant. He has brown hair.')"
   ]
  },
  {
   "cell_type": "code",
   "execution_count": 17,
   "id": "d0a65e53-6a84-449e-b5c9-997087b831fe",
   "metadata": {},
   "outputs": [],
   "source": [
    "f = open('test.txt','r')"
   ]
  },
  {
   "cell_type": "code",
   "execution_count": 18,
   "id": "31de764e-e7f5-48f1-924c-b28358f76768",
   "metadata": {},
   "outputs": [
    {
     "data": {
      "text/plain": [
       "'this is my fileChhota Bheem: Bheem is main protagonist of the show. He is an adventurous, fun-loving but virtuous boy who is gifted with superhuman strength. This strength can be powered up by consuming laddoos, his favourite food. Bheem appears bare chested, wearing an orange dhoti and a gold pendant. He has brown hair.'"
      ]
     },
     "execution_count": 18,
     "metadata": {},
     "output_type": "execute_result"
    }
   ],
   "source": [
    "f.read()"
   ]
  },
  {
   "cell_type": "code",
   "execution_count": 19,
   "id": "d31ac628-4267-40c3-ad49-b9ab1c365c47",
   "metadata": {},
   "outputs": [],
   "source": [
    "data = open('test.txt','r')"
   ]
  },
  {
   "cell_type": "code",
   "execution_count": 20,
   "id": "7258f69b-727c-4989-bda2-351ae0323561",
   "metadata": {},
   "outputs": [
    {
     "data": {
      "text/plain": [
       "<_io.TextIOWrapper name='test.txt' mode='r' encoding='UTF-8'>"
      ]
     },
     "execution_count": 20,
     "metadata": {},
     "output_type": "execute_result"
    }
   ],
   "source": [
    "data"
   ]
  },
  {
   "cell_type": "code",
   "execution_count": 39,
   "id": "124d728e-678b-40fd-b08c-5000ce4cac79",
   "metadata": {},
   "outputs": [
    {
     "data": {
      "text/plain": [
       "'this is my fileChhota Bheem: Bheem is main protagonist of the show. He is an adventurous, fun-loving but virtuous boy who is gifted with superhuman strength. This strength can be powered up by consuming laddoos, his favourite food. Bheem appears bare chested, wearing an orange dhoti and a gold pendant. He has brown hair.'"
      ]
     },
     "execution_count": 39,
     "metadata": {},
     "output_type": "execute_result"
    }
   ],
   "source": [
    "data.read()"
   ]
  },
  {
   "cell_type": "code",
   "execution_count": 42,
   "id": "70cba347-b12d-4106-acd2-e7939f09d34e",
   "metadata": {},
   "outputs": [
    {
     "data": {
      "text/plain": [
       "'this is my fileChhota Bheem: Bheem is main protagonist of the show. He is an adventurous, fun-loving but virtuous boy who is gifted with superhuman strength. This strength can be powered up by consuming laddoos, his favourite food. Bheem appears bare chested, wearing an orange dhoti and a gold pendant. He has brown hair.'"
      ]
     },
     "execution_count": 42,
     "metadata": {},
     "output_type": "execute_result"
    }
   ],
   "source": [
    "data.readline()"
   ]
  },
  {
   "cell_type": "code",
   "execution_count": 41,
   "id": "4bd0031f-2b99-4115-b5bf-c9c301e40838",
   "metadata": {},
   "outputs": [
    {
     "data": {
      "text/plain": [
       "0"
      ]
     },
     "execution_count": 41,
     "metadata": {},
     "output_type": "execute_result"
    }
   ],
   "source": [
    "data.seek(0)"
   ]
  },
  {
   "cell_type": "code",
   "execution_count": 43,
   "id": "0d0dd3e0-d5fb-4cdb-abf1-32461906f892",
   "metadata": {},
   "outputs": [
    {
     "data": {
      "text/plain": [
       "10"
      ]
     },
     "execution_count": 43,
     "metadata": {},
     "output_type": "execute_result"
    }
   ],
   "source": [
    "data.seek(10)"
   ]
  },
  {
   "cell_type": "code",
   "execution_count": 44,
   "id": "61f27ac3-9005-4770-a7f3-018ede768ba3",
   "metadata": {},
   "outputs": [
    {
     "data": {
      "text/plain": [
       "' fileChhota Bheem: Bheem is main protagonist of the show. He is an adventurous, fun-loving but virtuous boy who is gifted with superhuman strength. This strength can be powered up by consuming laddoos, his favourite food. Bheem appears bare chested, wearing an orange dhoti and a gold pendant. He has brown hair.'"
      ]
     },
     "execution_count": 44,
     "metadata": {},
     "output_type": "execute_result"
    }
   ],
   "source": [
    "data.read()"
   ]
  },
  {
   "cell_type": "code",
   "execution_count": 45,
   "id": "6382eade-99df-481d-8223-d0221bc8ea7e",
   "metadata": {},
   "outputs": [],
   "source": [
    "data1 = open('test.txt','r')"
   ]
  },
  {
   "cell_type": "code",
   "execution_count": 62,
   "id": "d9125fa9-69c5-4888-811a-3b9358e05721",
   "metadata": {},
   "outputs": [],
   "source": [
    "for i in data1:\n",
    "    print(i)"
   ]
  },
  {
   "cell_type": "code",
   "execution_count": 63,
   "id": "f105d915-ead1-4e07-a2df-1836cbd9a5dc",
   "metadata": {},
   "outputs": [],
   "source": [
    "import os"
   ]
  },
  {
   "cell_type": "code",
   "execution_count": 64,
   "id": "bafa005c-7a2e-4991-930f-0ef00353ae9d",
   "metadata": {},
   "outputs": [],
   "source": [
    "f = open('test1.txt','w')"
   ]
  },
  {
   "cell_type": "code",
   "execution_count": 65,
   "id": "76ef16e8-b721-4626-b4f5-f443ff7d7945",
   "metadata": {},
   "outputs": [
    {
     "data": {
      "text/plain": [
       "70"
      ]
     },
     "execution_count": 65,
     "metadata": {},
     "output_type": "execute_result"
    }
   ],
   "source": [
    "f.write('this is my filedata science master course is highly curated and uinted')"
   ]
  },
  {
   "cell_type": "code",
   "execution_count": 66,
   "id": "e2465b78-f2ec-4468-9119-6281363c6104",
   "metadata": {},
   "outputs": [],
   "source": [
    "f.close()"
   ]
  },
  {
   "cell_type": "code",
   "execution_count": 67,
   "id": "8d4f1226-8216-404e-8e58-2d96a4a08b58",
   "metadata": {},
   "outputs": [],
   "source": [
    "os.rename('test1.txt','new.txt')"
   ]
  },
  {
   "cell_type": "code",
   "execution_count": 68,
   "id": "1f3acdb6-cd76-4377-beb2-15025f203a60",
   "metadata": {},
   "outputs": [],
   "source": [
    "import shutil"
   ]
  },
  {
   "cell_type": "code",
   "execution_count": 72,
   "id": "4736d097-d445-438b-8195-8ec9a4396f4a",
   "metadata": {},
   "outputs": [
    {
     "data": {
      "text/plain": [
       "'copy_new.txt'"
      ]
     },
     "execution_count": 72,
     "metadata": {},
     "output_type": "execute_result"
    }
   ],
   "source": [
    "shutil.copy('new.txt','copy_new.txt')"
   ]
  },
  {
   "cell_type": "code",
   "execution_count": 75,
   "id": "9c65a2d3-6712-4d8f-b27e-b890afec1964",
   "metadata": {},
   "outputs": [
    {
     "name": "stdout",
     "output_type": "stream",
     "text": [
      "this is my filedata science master course is highly curated and uinted\n"
     ]
    }
   ],
   "source": [
    "with open('new.txt','r') as f :\n",
    "    print(f.read())"
   ]
  },
  {
   "cell_type": "code",
   "execution_count": null,
   "id": "a156fdb9-ff93-4e42-bcec-4d411f8d68a9",
   "metadata": {},
   "outputs": [],
   "source": []
  }
 ],
 "metadata": {
  "kernelspec": {
   "display_name": "Python 3 (ipykernel)",
   "language": "python",
   "name": "python3"
  },
  "language_info": {
   "codemirror_mode": {
    "name": "ipython",
    "version": 3
   },
   "file_extension": ".py",
   "mimetype": "text/x-python",
   "name": "python",
   "nbconvert_exporter": "python",
   "pygments_lexer": "ipython3",
   "version": "3.10.8"
  }
 },
 "nbformat": 4,
 "nbformat_minor": 5
}
